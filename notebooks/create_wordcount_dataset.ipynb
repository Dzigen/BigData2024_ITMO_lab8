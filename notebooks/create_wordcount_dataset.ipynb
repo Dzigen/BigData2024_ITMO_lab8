{
 "cells": [
  {
   "cell_type": "code",
   "execution_count": 6,
   "metadata": {},
   "outputs": [],
   "source": [
    "import pyspark\n",
    "import numpy as np\n",
    "import pandas as pd"
   ]
  },
  {
   "cell_type": "code",
   "execution_count": 5,
   "metadata": {},
   "outputs": [],
   "source": [
    "## Generating wordcount dataset\n",
    "unique_words = ['Cat','Dog','Bird','Plane','Tiger','Man','Woman','Car','Boat','Bear','Fox','Worm']\n",
    "k = 10000\n",
    "dataset_path = '../data/wordcount_dataset.txt'\n",
    "\n",
    "words = np.random.choice(unique_words, k)\n",
    "data = ' '.join(words)\n",
    "with open(dataset_path, 'w', encoding='utf-8') as fd:\n",
    "    fd.write(data)"
   ]
  },
  {
   "cell_type": "code",
   "execution_count": null,
   "metadata": {},
   "outputs": [],
   "source": []
  }
 ],
 "metadata": {
  "kernelspec": {
   "display_name": "venv",
   "language": "python",
   "name": "python3"
  },
  "language_info": {
   "codemirror_mode": {
    "name": "ipython",
    "version": 3
   },
   "file_extension": ".py",
   "mimetype": "text/x-python",
   "name": "python",
   "nbconvert_exporter": "python",
   "pygments_lexer": "ipython3",
   "version": "3.11.4"
  }
 },
 "nbformat": 4,
 "nbformat_minor": 2
}
