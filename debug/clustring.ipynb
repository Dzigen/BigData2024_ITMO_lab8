{
 "cells": [
  {
   "cell_type": "code",
   "execution_count": 1,
   "metadata": {},
   "outputs": [],
   "source": [
    "import sys\n",
    "\n",
    "BASE_DIR = '../'\n",
    "sys.path.insert(0, BASE_DIR)\n",
    "\n",
    "from src import Preprocessor, Logger, KMeansConnector, MySQLConnectorConfig, MySQLConnector\n",
    "\n",
    "import configparser\n",
    "from pyspark.sql import SparkSession\n",
    "\n",
    "CONFIG_PATH = '../config.ini'"
   ]
  },
  {
   "cell_type": "code",
   "execution_count": 2,
   "metadata": {},
   "outputs": [],
   "source": [
    "config = configparser.ConfigParser()\n",
    "config.read(CONFIG_PATH)\n",
    "\n",
    "DB_CONNECTOR_JAR = f\"../{config['spark']['mysql_jar']}\""
   ]
  },
  {
   "cell_type": "code",
   "execution_count": 3,
   "metadata": {},
   "outputs": [
    {
     "name": "stderr",
     "output_type": "stream",
     "text": [
      "24/09/22 20:01:48 WARN Utils: Your hostname, tower resolves to a loopback address: 127.0.1.1; using 192.168.0.105 instead (on interface enp4s0)\n",
      "24/09/22 20:01:48 WARN Utils: Set SPARK_LOCAL_IP if you need to bind to another address\n",
      "24/09/22 20:01:49 WARN NativeCodeLoader: Unable to load native-hadoop library for your platform... using builtin-java classes where applicable\n",
      "Setting default log level to \"WARN\".\n",
      "To adjust logging level use sc.setLogLevel(newLevel). For SparkR, use setLogLevel(newLevel).\n"
     ]
    }
   ],
   "source": [
    "spark = SparkSession.builder \\\n",
    "    .appName(config['spark']['app_name']) \\\n",
    "    .master(config['spark']['deploy_mode']) \\\n",
    "    .config(\"spark.driver.cores\", config['spark']['driver_cores']) \\\n",
    "    .config(\"spark.executor.cores\", config['spark']['executor_cores']) \\\n",
    "    .config(\"spark.driver.memory\", config['spark']['driver_memory']) \\\n",
    "    .config(\"spark.executor.memory\", config['spark']['executor_memory']) \\\n",
    "    .config(\"spark.dynamicAllocation.enabled\", config['spark']['dynamic_allocation']) \\\n",
    "    .config(\"spark.dynamicAllocation.minExecutors\", config['spark']['min_executors']) \\\n",
    "    .config(\"spark.dynamicAllocation.maxExecutors\", config['spark']['max_executors']) \\\n",
    "    .config(\"spark.dynamicAllocation.initialExecutors\", config['spark']['initial_executors']) \\\n",
    "    .config(\"spark.jars\", DB_CONNECTOR_JAR) \\\n",
    "    .config(\"spark.driver.extraClassPath\", DB_CONNECTOR_JAR) \\\n",
    "    .getOrCreate()"
   ]
  },
  {
   "cell_type": "code",
   "execution_count": 4,
   "metadata": {},
   "outputs": [],
   "source": [
    "logger = Logger(True).get_logger(\"logger\")\n",
    "preproc = Preprocessor(logger)"
   ]
  },
  {
   "cell_type": "code",
   "execution_count": 5,
   "metadata": {},
   "outputs": [],
   "source": [
    "db_config = MySQLConnectorConfig(**dict(config['mysql']))"
   ]
  },
  {
   "cell_type": "code",
   "execution_count": 6,
   "metadata": {},
   "outputs": [],
   "source": [
    "db_conn = MySQLConnector(spark, logger, db_config)"
   ]
  },
  {
   "cell_type": "code",
   "execution_count": 7,
   "metadata": {},
   "outputs": [
    {
     "name": "stdout",
     "output_type": "stream",
     "text": [
      "2024-09-22 20:01:54,554 — logger — INFO — START_METHOD: Загрузка датасета из БД\n",
      "2024-09-22 20:01:54,555 — logger — INFO — START_METHOD: Чтение датасета из таблицы БД\n",
      "2024-09-22 20:01:55,878 — logger — INFO — END_METHOD: Чтение датасета из таблицы БД\n",
      "2024-09-22 20:01:56,636 — logger — INFO — END_METHOD: Загрузка датасета из БД\n",
      "2024-09-22 20:01:56,636 — logger — INFO — START_METHOD: Применение к экземпларам датасета StandardScaler-трансформации\n",
      "2024-09-22 20:01:58,454 — logger — INFO — END_METHOD: Применение к экземпларам датасета StandardScaler-трансформации\n"
     ]
    }
   ],
   "source": [
    "features_names = config['dataset']['features'].split(\", \")\n",
    "output = preproc.load(db_conn, db_conn.config.samples_table, features_names)\n",
    "scaled_output = preproc.apply_scale(output)"
   ]
  },
  {
   "cell_type": "code",
   "execution_count": 8,
   "metadata": {},
   "outputs": [],
   "source": [
    "model = KMeansConnector(2, 'scaled_features', logger, db_conn)"
   ]
  },
  {
   "cell_type": "code",
   "execution_count": 9,
   "metadata": {},
   "outputs": [
    {
     "name": "stdout",
     "output_type": "stream",
     "text": [
      "2024-09-22 20:02:01,099 — logger — INFO — START_METHOD: Обучение модели кластеризации\n",
      "2024-09-22 20:02:03,223 — logger — INFO — END_METHOD: Обучение модели кластеризации\n"
     ]
    }
   ],
   "source": [
    "model.fit(scaled_output)"
   ]
  },
  {
   "cell_type": "code",
   "execution_count": 10,
   "metadata": {},
   "outputs": [
    {
     "name": "stdout",
     "output_type": "stream",
     "text": [
      "2024-09-22 20:02:03,968 — logger — INFO — START_METHOD: Получение предсказаний от обученной модели\n",
      "2024-09-22 20:02:03,999 — logger — INFO — START_METHOD: Добавление новой записи в таблицу БД\n"
     ]
    },
    {
     "name": "stderr",
     "output_type": "stream",
     "text": [
      "[Stage 33:>                                                         (0 + 1) / 1]\r"
     ]
    },
    {
     "name": "stdout",
     "output_type": "stream",
     "text": [
      "2024-09-22 20:02:05,305 — logger — INFO — END_METHOD: Добавление новой записи в таблицу БД\n",
      "2024-09-22 20:02:05,306 — logger — INFO — END_METHOD: Получение предсказаний от обученной модели\n"
     ]
    },
    {
     "name": "stderr",
     "output_type": "stream",
     "text": [
      "                                                                                \r"
     ]
    }
   ],
   "source": [
    "predictions = model.predict(scaled_output)"
   ]
  },
  {
   "cell_type": "code",
   "execution_count": 11,
   "metadata": {},
   "outputs": [
    {
     "name": "stdout",
     "output_type": "stream",
     "text": [
      "2024-09-22 20:02:06,739 — logger — INFO — START_METHOD: Оценка качества модели кластеризации\n",
      "2024-09-22 20:02:07,186 — logger — INFO — END_METHOD: Оценка качества модели кластеризации\n"
     ]
    }
   ],
   "source": [
    "scores = model.evaluate(predictions)"
   ]
  },
  {
   "cell_type": "code",
   "execution_count": 12,
   "metadata": {},
   "outputs": [
    {
     "data": {
      "text/plain": [
       "0.6265308730733993"
      ]
     },
     "execution_count": 12,
     "metadata": {},
     "output_type": "execute_result"
    }
   ],
   "source": [
    "scores"
   ]
  },
  {
   "cell_type": "code",
   "execution_count": null,
   "metadata": {},
   "outputs": [],
   "source": []
  }
 ],
 "metadata": {
  "kernelspec": {
   "display_name": "venv",
   "language": "python",
   "name": "python3"
  },
  "language_info": {
   "codemirror_mode": {
    "name": "ipython",
    "version": 3
   },
   "file_extension": ".py",
   "mimetype": "text/x-python",
   "name": "python",
   "nbconvert_exporter": "python",
   "pygments_lexer": "ipython3",
   "version": "3.11.4"
  }
 },
 "nbformat": 4,
 "nbformat_minor": 2
}
