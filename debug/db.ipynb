{
 "cells": [
  {
   "cell_type": "code",
   "execution_count": 1,
   "metadata": {},
   "outputs": [],
   "source": [
    "import mysql.connector as c\n",
    "import pandas as pd\n",
    "import configparser\n",
    "import os\n",
    "\n",
    "CONFIG_PATH = '../config.ini'"
   ]
  },
  {
   "cell_type": "code",
   "execution_count": 2,
   "metadata": {},
   "outputs": [
    {
     "data": {
      "text/plain": [
       "['../config.ini']"
      ]
     },
     "execution_count": 2,
     "metadata": {},
     "output_type": "execute_result"
    }
   ],
   "source": [
    "config = configparser.ConfigParser()\n",
    "config.read(CONFIG_PATH)"
   ]
  },
  {
   "cell_type": "code",
   "execution_count": 3,
   "metadata": {},
   "outputs": [],
   "source": [
    "DF = pd.read_csv(f\"../data/{config['dataset']['name']}\", sep='\\t')"
   ]
  },
  {
   "cell_type": "code",
   "execution_count": 4,
   "metadata": {},
   "outputs": [],
   "source": [
    "DB_CONNECTION = c.connect(\n",
    "    user=config['mysql']['username'],\n",
    "    password=config['mysql']['password'],\n",
    "    host=config['mysql']['host'],\n",
    "    port=config['mysql']['port']\n",
    ")"
   ]
  },
  {
   "cell_type": "code",
   "execution_count": 5,
   "metadata": {},
   "outputs": [],
   "source": [
    "# PREPARE QUERIES FOR EXECUTION\n",
    "\n",
    "CREATE_DB_QUERY = f\"CREATE DATABASE IF NOT EXISTS {config['mysql']['database']};\"\n",
    "USE_DB_QUERY = f\"USE {config['mysql']['database']};\"\n",
    "DROP_TABLE_QUERY = f\"DROP TABLE IF EXISTS {config['mysql']['samples_table']};\"\n",
    "\n",
    "columns_info = ', '.join(list(map(lambda name: f\"{name} FLOAT\", config['dataset']['features'].split(\", \"))))\n",
    "CREATE_TABLE_QUERY = f\"CREATE TABLE IF NOT EXISTS {config['mysql']['samples_table']}({columns_info});\"\n",
    "\n",
    "row_names = config['dataset']['features'].split(\", \")\n",
    "stringified_rows = []\n",
    "for i in range(DF.shape[0]):\n",
    "    row_values = []\n",
    "    for name in row_names:\n",
    "        row_values.append(str(DF[name][i]))\n",
    "    stringified_rows.append(\"(\" + ','.join(row_values) + \")\")\n",
    "INSERT_TABLE_ROWS_QUERY = f\"INSERT INTO {config['mysql']['samples_table']}({','.join(row_names)}) VALUES\" + ','.join(stringified_rows) + ';'"
   ]
  },
  {
   "cell_type": "code",
   "execution_count": 6,
   "metadata": {},
   "outputs": [],
   "source": [
    "# EXECUTING QUERIES\n",
    "db_cursor = DB_CONNECTION.cursor()\n",
    "db_cursor.execute(CREATE_DB_QUERY)\n",
    "db_cursor.execute(USE_DB_QUERY)\n",
    "db_cursor.execute(DROP_TABLE_QUERY)\n",
    "db_cursor.execute(CREATE_TABLE_QUERY)\n",
    "db_cursor.execute(INSERT_TABLE_ROWS_QUERY)\n",
    "\n",
    "DB_CONNECTION.commit()\n",
    "db_cursor.close()\n",
    "DB_CONNECTION.close()"
   ]
  }
 ],
 "metadata": {
  "kernelspec": {
   "display_name": "base",
   "language": "python",
   "name": "python3"
  },
  "language_info": {
   "codemirror_mode": {
    "name": "ipython",
    "version": 3
   },
   "file_extension": ".py",
   "mimetype": "text/x-python",
   "name": "python",
   "nbconvert_exporter": "python",
   "pygments_lexer": "ipython3",
   "version": "3.11.4"
  },
  "orig_nbformat": 4
 },
 "nbformat": 4,
 "nbformat_minor": 2
}
