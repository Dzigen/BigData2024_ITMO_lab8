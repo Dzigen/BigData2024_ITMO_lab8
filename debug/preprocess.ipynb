{
 "cells": [
  {
   "cell_type": "code",
   "execution_count": 1,
   "metadata": {},
   "outputs": [],
   "source": [
    "import sys\n",
    "\n",
    "BASE_DIR = '../'\n",
    "sys.path.insert(0, BASE_DIR)\n",
    "\n",
    "from src import Preprocessor, Logger\n",
    "\n",
    "import configparser\n",
    "from pyspark.sql import SparkSession\n",
    "\n",
    "CONFIG_PATH = '../config.ini'"
   ]
  },
  {
   "cell_type": "code",
   "execution_count": 2,
   "metadata": {},
   "outputs": [
    {
     "data": {
      "text/plain": [
       "['../config.ini']"
      ]
     },
     "execution_count": 2,
     "metadata": {},
     "output_type": "execute_result"
    }
   ],
   "source": [
    "config = configparser.ConfigParser()\n",
    "config.read(CONFIG_PATH)"
   ]
  },
  {
   "cell_type": "code",
   "execution_count": 3,
   "metadata": {},
   "outputs": [
    {
     "name": "stderr",
     "output_type": "stream",
     "text": [
      "24/09/16 17:52:33 WARN Utils: Your hostname, tower resolves to a loopback address: 127.0.1.1; using 192.168.0.105 instead (on interface enp4s0)\n",
      "24/09/16 17:52:33 WARN Utils: Set SPARK_LOCAL_IP if you need to bind to another address\n",
      "Setting default log level to \"WARN\".\n",
      "To adjust logging level use sc.setLogLevel(newLevel). For SparkR, use setLogLevel(newLevel).\n",
      "24/09/16 17:52:33 WARN NativeCodeLoader: Unable to load native-hadoop library for your platform... using builtin-java classes where applicable\n"
     ]
    }
   ],
   "source": [
    "spark = SparkSession.builder.appName(config['spark']['app_name']) \\\n",
    "    .master(config['spark']['deploy_mode']) \\\n",
    "    .config(\"spark.driver.host\", config['spark']['host'])\\\n",
    "    .config(\"spark.driver.bindAddress\", config['spark']['host']) \\\n",
    "    .config(\"spark.driver.cores\", config['spark']['driver_cores']) \\\n",
    "    .config(\"spark.executor.cores\", config['spark']['executor_cores']) \\\n",
    "    .config(\"spark.driver.memory\", config['spark']['driver_memory']) \\\n",
    "    .config(\"spark.executor.memory\", config['spark']['executor_memory']) \\\n",
    "    .getOrCreate()"
   ]
  },
  {
   "cell_type": "code",
   "execution_count": 4,
   "metadata": {},
   "outputs": [],
   "source": [
    "logger = Logger(True).get_logger(\"logger\")\n",
    "preproc = Preprocessor(logger)"
   ]
  },
  {
   "cell_type": "code",
   "execution_count": 5,
   "metadata": {},
   "outputs": [],
   "source": [
    "features_names = config['dataset']['features'].split(\", \")\n",
    "output = preproc.load(f\"../data/{config['dataset']['name']}\", spark, features_names)"
   ]
  },
  {
   "cell_type": "code",
   "execution_count": 6,
   "metadata": {},
   "outputs": [],
   "source": [
    "scaled_output = preproc.apply_scale(output)"
   ]
  },
  {
   "cell_type": "code",
   "execution_count": 7,
   "metadata": {},
   "outputs": [
    {
     "name": "stderr",
     "output_type": "stream",
     "text": [
      "24/09/16 17:52:39 WARN SparkStringUtils: Truncated the string representation of a plan since it was too large. This behavior can be adjusted by setting 'spark.sql.debug.maxToStringFields'.\n"
     ]
    }
   ],
   "source": [
    "out = scaled_output.collect()"
   ]
  },
  {
   "cell_type": "code",
   "execution_count": 10,
   "metadata": {},
   "outputs": [
    {
     "name": "stdout",
     "output_type": "stream",
     "text": [
      "[7.113481527614929e-16,23.827468951085166,25.206217574727003,1.8354581663777247]\n",
      "[225.0,1623855208.0,1692101569.0,0.3]\n"
     ]
    }
   ],
   "source": [
    "print(out[0].scaled_features)\n",
    "print(out[0].features)"
   ]
  },
  {
   "cell_type": "code",
   "execution_count": null,
   "metadata": {},
   "outputs": [],
   "source": []
  }
 ],
 "metadata": {
  "kernelspec": {
   "display_name": "venv",
   "language": "python",
   "name": "python3"
  },
  "language_info": {
   "codemirror_mode": {
    "name": "ipython",
    "version": 3
   },
   "file_extension": ".py",
   "mimetype": "text/x-python",
   "name": "python",
   "nbconvert_exporter": "python",
   "pygments_lexer": "ipython3",
   "version": "3.11.4"
  }
 },
 "nbformat": 4,
 "nbformat_minor": 2
}
